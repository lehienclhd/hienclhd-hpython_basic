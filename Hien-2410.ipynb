{
  "cells": [
    {
      "cell_type": "markdown",
      "metadata": {
        "id": "view-in-github",
        "colab_type": "text"
      },
      "source": [
        "<a href=\"https://colab.research.google.com/github/lehienclhd/hienclhd-hpython_basic/blob/main/Hien-2410.ipynb\" target=\"_parent\"><img src=\"https://colab.research.google.com/assets/colab-badge.svg\" alt=\"Open In Colab\"/></a>"
      ]
    },
    {
      "cell_type": "code",
      "source": [
        "import tensorflow as tf\n",
        "import numpy as np\n",
        "arr_np = np.arange(10)\n",
        "print(arr_np)\n",
        "print(arr_np.shape)\n",
        "print('-----------------------')\n",
        "arr_tf = tf.convert_to_tensor(arr_np)\n",
        "print(arr_tf)\n",
        "print(arr_tf.shape)\n",
        "print('-----------------------')\n",
        "arr_np_back = arr_tf.numpy()\n",
        "print(arr_np_back)\n",
        "print(arr_np_back.shape)\n",
        "print('-----------------------')"
      ],
      "metadata": {
        "id": "NcRbCVNjfAKO",
        "outputId": "46d84834-29b1-4583-b7d3-db091d042368",
        "colab": {
          "base_uri": "https://localhost:8080/"
        }
      },
      "execution_count": 1,
      "outputs": [
        {
          "output_type": "stream",
          "name": "stdout",
          "text": [
            "[0 1 2 3 4 5 6 7 8 9]\n",
            "(10,)\n",
            "-----------------------\n",
            "tf.Tensor([0 1 2 3 4 5 6 7 8 9], shape=(10,), dtype=int64)\n",
            "(10,)\n",
            "-----------------------\n",
            "[0 1 2 3 4 5 6 7 8 9]\n",
            "(10,)\n",
            "-----------------------\n"
          ]
        }
      ]
    },
    {
      "cell_type": "code",
      "source": [
        "import numpy as np\n",
        "l = list(range(1,4))\n",
        "data = np.array(l)\n",
        "\n",
        "print(data)\n",
        "print(data[0])\n",
        "print(data[1])\n",
        "\n"
      ],
      "metadata": {
        "id": "XidpbevCfH-t",
        "outputId": "dd9e63c3-de82-4ba1-96af-ea2d82ad85f6",
        "colab": {
          "base_uri": "https://localhost:8080/"
        }
      },
      "execution_count": 2,
      "outputs": [
        {
          "output_type": "stream",
          "name": "stdout",
          "text": [
            "[1 2 3]\n",
            "1\n",
            "2\n"
          ]
        }
      ]
    },
    {
      "cell_type": "code",
      "source": [
        "import numpy as np\n",
        "list1D = [1,2,3]\n",
        "data = np.array(list1D)\n",
        "\n",
        "print(data)\n",
        "print(data.shape)"
      ],
      "metadata": {
        "id": "IqMMKMNHfM81",
        "outputId": "438a7738-2199-4f32-9ec6-fb839ed4c531",
        "colab": {
          "base_uri": "https://localhost:8080/"
        }
      },
      "execution_count": 3,
      "outputs": [
        {
          "output_type": "stream",
          "name": "stdout",
          "text": [
            "[1 2 3]\n",
            "(3,)\n"
          ]
        }
      ]
    },
    {
      "cell_type": "code",
      "source": [
        "import numpy as np\n",
        "list2D = [[1,2,],[3,4],[5,6]]\n",
        "data = np.array(list2D)\n",
        "\n",
        "print(data)\n",
        "print(data.shape)"
      ],
      "metadata": {
        "id": "uGZ0XTu-fOlF",
        "outputId": "c1be3b36-44eb-4dbe-e3ad-cf194ea40c3d",
        "colab": {
          "base_uri": "https://localhost:8080/"
        }
      },
      "execution_count": 5,
      "outputs": [
        {
          "output_type": "stream",
          "name": "stdout",
          "text": [
            "[[1 2]\n",
            " [3 4]\n",
            " [5 6]]\n",
            "(3, 2)\n"
          ]
        }
      ]
    },
    {
      "cell_type": "code",
      "source": [
        "import numpy as np\n",
        "list3D = [[[1,6],[2,2],[3,4]],\n",
        "          [[4,7],[2,4],[7,9]],\n",
        "          [[7,7],[5,6],[9,9]]]\n",
        "          \n",
        "data = np.array(list3D)\n",
        "\n",
        "print(data.shape)"
      ],
      "metadata": {
        "id": "vlgieRWSfTq-",
        "outputId": "d02eca62-b0b8-488d-ac27-b00ea038cdf6",
        "colab": {
          "base_uri": "https://localhost:8080/"
        }
      },
      "execution_count": 7,
      "outputs": [
        {
          "output_type": "stream",
          "name": "stdout",
          "text": [
            "(3, 3, 2)\n"
          ]
        }
      ]
    },
    {
      "cell_type": "code",
      "source": [
        "import numpy as np\n",
        "data1 = np.array([1,2,3])\n",
        "print(data.dtype)\n",
        "\n",
        "data2 = np.array([1.,2.,3.])\n",
        "print(data2.dtype)\n",
        "\n",
        "data3 = np.array([1,2,3], dtype=np.int64)\n",
        "print(data3.dtype)"
      ],
      "metadata": {
        "id": "2PAXiNEMfWgO",
        "outputId": "fd8d0056-4ed5-415d-a13e-4636425e7dc7",
        "colab": {
          "base_uri": "https://localhost:8080/"
        }
      },
      "execution_count": 8,
      "outputs": [
        {
          "output_type": "stream",
          "name": "stdout",
          "text": [
            "int64\n",
            "float64\n",
            "int64\n"
          ]
        }
      ]
    },
    {
      "cell_type": "code",
      "source": [
        "import numpy as np\n",
        "l = list(range(1,4))\n",
        "data = np.array(l)\n",
        "print(data)\n",
        "\n",
        "data[0] = 8\n",
        "print(data)"
      ],
      "metadata": {
        "id": "0p9iLkR9fYQG",
        "outputId": "8917a7d5-db6e-4dce-9fe0-11ed5ac41439",
        "colab": {
          "base_uri": "https://localhost:8080/"
        }
      },
      "execution_count": 9,
      "outputs": [
        {
          "output_type": "stream",
          "name": "stdout",
          "text": [
            "[1 2 3]\n",
            "[8 2 3]\n"
          ]
        }
      ]
    },
    {
      "cell_type": "code",
      "source": [
        "import numpy as np\n",
        "arr = np.zeros((2,3))\n",
        "print(arr)"
      ],
      "metadata": {
        "id": "-WaD_F8WfZse",
        "outputId": "abe1651c-09cd-460e-eec9-75bedb29d7f5",
        "colab": {
          "base_uri": "https://localhost:8080/"
        }
      },
      "execution_count": 10,
      "outputs": [
        {
          "output_type": "stream",
          "name": "stdout",
          "text": [
            "[[0. 0. 0.]\n",
            " [0. 0. 0.]]\n"
          ]
        }
      ]
    },
    {
      "cell_type": "code",
      "source": [
        "import numpy as np\n",
        "arr = np.ones((2,3))\n",
        "print(arr)"
      ],
      "metadata": {
        "id": "y9jShAtufa22",
        "outputId": "b1e57929-b66a-42d4-a467-59de29afc779",
        "colab": {
          "base_uri": "https://localhost:8080/"
        }
      },
      "execution_count": 11,
      "outputs": [
        {
          "output_type": "stream",
          "name": "stdout",
          "text": [
            "[[1. 1. 1.]\n",
            " [1. 1. 1.]]\n"
          ]
        }
      ]
    },
    {
      "cell_type": "code",
      "source": [
        "import numpy as np\n",
        "arr = np.full((2,3),9)\n",
        "print(arr)"
      ],
      "metadata": {
        "id": "bB89x5uXfcBm",
        "outputId": "e4a28f0b-6f1e-452a-e5f4-3a3f1a6e0bdd",
        "colab": {
          "base_uri": "https://localhost:8080/"
        }
      },
      "execution_count": 12,
      "outputs": [
        {
          "output_type": "stream",
          "name": "stdout",
          "text": [
            "[[9 9 9]\n",
            " [9 9 9]]\n"
          ]
        }
      ]
    },
    {
      "cell_type": "code",
      "source": [
        "import numpy as np\n",
        "arr1 = np.arange(5)\n",
        "print(arr1)"
      ],
      "metadata": {
        "id": "Q6f9kUWlfdRf",
        "outputId": "cf0773c6-d14f-44d9-c883-1a1401505f67",
        "colab": {
          "base_uri": "https://localhost:8080/"
        }
      },
      "execution_count": 13,
      "outputs": [
        {
          "output_type": "stream",
          "name": "stdout",
          "text": [
            "[0 1 2 3 4]\n"
          ]
        }
      ]
    },
    {
      "cell_type": "code",
      "source": [
        "import numpy as np\n",
        "arr = np.eye(3)\n",
        "print(arr)"
      ],
      "metadata": {
        "id": "lBRtdfoLfeou",
        "outputId": "099a27fa-e5a7-4d62-9bbf-cb3ac662b756",
        "colab": {
          "base_uri": "https://localhost:8080/"
        }
      },
      "execution_count": 14,
      "outputs": [
        {
          "output_type": "stream",
          "name": "stdout",
          "text": [
            "[[1. 0. 0.]\n",
            " [0. 1. 0.]\n",
            " [0. 0. 1.]]\n"
          ]
        }
      ]
    },
    {
      "cell_type": "code",
      "source": [
        "import numpy as np\n",
        "arr = np.random.random((2,3))\n",
        "print(arr)"
      ],
      "metadata": {
        "id": "cgh0vXePfftm",
        "outputId": "2e944d5b-eb42-41f6-e108-77ab7b6e671f",
        "colab": {
          "base_uri": "https://localhost:8080/"
        }
      },
      "execution_count": 15,
      "outputs": [
        {
          "output_type": "stream",
          "name": "stdout",
          "text": [
            "[[0.88784861 0.47840566 0.95396631]\n",
            " [0.27068223 0.95519038 0.51156507]]\n"
          ]
        }
      ]
    },
    {
      "cell_type": "code",
      "source": [
        "import numpy as np\n",
        "arr = np.arange(5)\n",
        "print(arr)\n",
        "condition = arr < 3\n",
        "out = np.where(condition, arr, arr * 2)\n",
        "\n",
        "print(condition)\n",
        "print(out)"
      ],
      "metadata": {
        "id": "1vUGOmf0fg_O",
        "outputId": "43c33c18-d9df-4774-b2bc-e80760c52bc7",
        "colab": {
          "base_uri": "https://localhost:8080/"
        }
      },
      "execution_count": 17,
      "outputs": [
        {
          "output_type": "stream",
          "name": "stdout",
          "text": [
            "[0 1 2 3 4]\n",
            "[ True  True  True False False]\n",
            "[0 1 2 6 8]\n"
          ]
        }
      ]
    },
    {
      "cell_type": "code",
      "source": [
        "import numpy as np\n",
        "arr = np.array([[2,3], [3,4]])\n",
        "out = arr.flatten()\n",
        "print(arr)\n",
        "print(out)"
      ],
      "metadata": {
        "id": "GiCc1DM4fktW",
        "outputId": "4ffdad44-605f-4f51-ae8d-ffcb7e36ea09",
        "colab": {
          "base_uri": "https://localhost:8080/"
        }
      },
      "execution_count": 18,
      "outputs": [
        {
          "output_type": "stream",
          "name": "stdout",
          "text": [
            "[[2 3]\n",
            " [3 4]]\n",
            "[2 3 3 4]\n"
          ]
        }
      ]
    },
    {
      "cell_type": "code",
      "source": [
        "import numpy as np\n",
        "\n",
        "l = [[1,2,3],\n",
        "     [4,5,6]]\n",
        "\n",
        "data = np.array(l)\n",
        "print(data)\n",
        "print(data.shape)\n",
        "\n",
        "data_rs = np.reshape(data, (3,2))\n",
        "print(data_rs)\n",
        "print(data_rs.shape)"
      ],
      "metadata": {
        "id": "HOMjYjI_fl-e",
        "outputId": "d70ea725-ab3d-4e09-9c1b-4bd3e86f56ea",
        "colab": {
          "base_uri": "https://localhost:8080/"
        }
      },
      "execution_count": 19,
      "outputs": [
        {
          "output_type": "stream",
          "name": "stdout",
          "text": [
            "[[1 2 3]\n",
            " [4 5 6]]\n",
            "(2, 3)\n",
            "[[1 2]\n",
            " [3 4]\n",
            " [5 6]]\n",
            "(3, 2)\n"
          ]
        }
      ]
    },
    {
      "cell_type": "code",
      "source": [
        "import numpy as np\n",
        "\n",
        "a_arr = np.array([[1,2,3],\n",
        "                  [5,6,7]])\n",
        "\n",
        "b_arr = a_arr[:, 1:3]\n",
        "print(a_arr)\n",
        "print(b_arr)"
      ],
      "metadata": {
        "id": "HJ0VGFlpfnU-",
        "outputId": "01c6fec5-4284-4ada-dba4-1bf4f7ced9f0",
        "colab": {
          "base_uri": "https://localhost:8080/"
        }
      },
      "execution_count": 20,
      "outputs": [
        {
          "output_type": "stream",
          "name": "stdout",
          "text": [
            "[[1 2 3]\n",
            " [5 6 7]]\n",
            "[[2 3]\n",
            " [6 7]]\n"
          ]
        }
      ]
    },
    {
      "cell_type": "code",
      "source": [
        "import numpy as np\n",
        "\n",
        "a_arr = np.array([[1,2,3],\n",
        "                  [5,6,7]])\n",
        "print(a_arr)\n",
        "\n",
        "b_arr = a_arr[:, 1:3]\n",
        "print(b_arr)\n",
        "\n",
        "print(a_arr[0,1])\n",
        "b_arr[0,0] = 99\n",
        "print(a_arr[0,1])"
      ],
      "metadata": {
        "id": "EfXodhmTfoaW",
        "outputId": "251f2180-64ab-4e08-eb0c-ea1e76859eed",
        "colab": {
          "base_uri": "https://localhost:8080/"
        }
      },
      "execution_count": 21,
      "outputs": [
        {
          "output_type": "stream",
          "name": "stdout",
          "text": [
            "[[1 2 3]\n",
            " [5 6 7]]\n",
            "[[2 3]\n",
            " [6 7]]\n",
            "2\n",
            "99\n"
          ]
        }
      ]
    },
    {
      "cell_type": "code",
      "source": [
        "import numpy as np\n",
        "\n",
        "arr = np.array([[1,2,3],\n",
        "                [5,6,7],\n",
        "                [9,10,11]])\n",
        "\n",
        "row_m1 = arr[1, :]\n",
        "row_m2 = arr[1:2, :]\n",
        "\n",
        "print(row_m1, row_m1.shape)\n",
        "print(row_m2, row_m2.shape)"
      ],
      "metadata": {
        "id": "pLfZDxlyfqTu",
        "outputId": "ff5ab9c1-84b8-4df8-c7cd-fd1454a5ef40",
        "colab": {
          "base_uri": "https://localhost:8080/"
        }
      },
      "execution_count": 22,
      "outputs": [
        {
          "output_type": "stream",
          "name": "stdout",
          "text": [
            "[5 6 7] (3,)\n",
            "[[5 6 7]] (1, 3)\n"
          ]
        }
      ]
    },
    {
      "cell_type": "code",
      "source": [
        "import numpy as np\n",
        "\n",
        "arr = np.array([[1,2,3],\n",
        "                [5,6,7],\n",
        "                [9,10,11]])\n",
        "\n",
        "col_m1 = arr[:, 1]\n",
        "col_m2 = arr[:, 1:2]\n",
        "\n",
        "print(col_m1, col_m1.shape)\n",
        "print(col_m2, col_m2.shape)"
      ],
      "metadata": {
        "id": "KF4Dhh4afrq-",
        "outputId": "28649079-e90b-458a-f29a-409446e3b85f",
        "colab": {
          "base_uri": "https://localhost:8080/"
        }
      },
      "execution_count": 23,
      "outputs": [
        {
          "output_type": "stream",
          "name": "stdout",
          "text": [
            "[ 2  6 10] (3,)\n",
            "[[ 2]\n",
            " [ 6]\n",
            " [10]] (3, 1)\n"
          ]
        }
      ]
    },
    {
      "cell_type": "code",
      "source": [
        "import numpy as np\n",
        "\n",
        "arr = np.array([[1,2,3],\n",
        "                [5,6,7],\n",
        "                [9,10,11]])\n",
        "\n",
        "out1 = arr[[0,1,2],[0,1,0]]\n",
        "print(out1)\n",
        "out2 = arr [[0,0],[1,1]]\n",
        "print(out2)"
      ],
      "metadata": {
        "id": "-K8uZo0AftLO",
        "outputId": "e67405ff-19ad-4a8d-d5a2-5e16fd8dbec6",
        "colab": {
          "base_uri": "https://localhost:8080/"
        }
      },
      "execution_count": 24,
      "outputs": [
        {
          "output_type": "stream",
          "name": "stdout",
          "text": [
            "[1 6 9]\n",
            "[2 2]\n"
          ]
        }
      ]
    },
    {
      "cell_type": "code",
      "source": [
        "import numpy as np\n",
        "\n",
        "arr = np.array([[1,2,3],\n",
        "                [5,6,7],\n",
        "                [9,10,11]])\n",
        "print(arr)\n",
        "\n",
        "bool_idx = (arr >2)\n",
        "print(bool_idx)"
      ],
      "metadata": {
        "id": "MYS_Ve07fubO",
        "outputId": "1f720bfc-4a95-4889-8203-07e20e218009",
        "colab": {
          "base_uri": "https://localhost:8080/"
        }
      },
      "execution_count": 25,
      "outputs": [
        {
          "output_type": "stream",
          "name": "stdout",
          "text": [
            "[[ 1  2  3]\n",
            " [ 5  6  7]\n",
            " [ 9 10 11]]\n",
            "[[False False  True]\n",
            " [ True  True  True]\n",
            " [ True  True  True]]\n"
          ]
        }
      ]
    },
    {
      "cell_type": "code",
      "source": [
        "import numpy as np\n",
        "\n",
        "x = np.array([1,2,3,4])\n",
        "y = np.array([5,6,7,8])\n",
        "\n",
        "print(x)\n",
        "print(y)\n",
        "\n",
        "print(x+y)\n",
        "print(np.add(x,y))"
      ],
      "metadata": {
        "id": "di9suaqgfvne",
        "outputId": "38b957f6-ee16-4b5f-ae19-65105071518e",
        "colab": {
          "base_uri": "https://localhost:8080/"
        }
      },
      "execution_count": 26,
      "outputs": [
        {
          "output_type": "stream",
          "name": "stdout",
          "text": [
            "[1 2 3 4]\n",
            "[5 6 7 8]\n",
            "[ 6  8 10 12]\n",
            "[ 6  8 10 12]\n"
          ]
        }
      ]
    },
    {
      "cell_type": "code",
      "source": [
        "import numpy as np\n",
        "\n",
        "x = np.array([1,2,3,4])\n",
        "y = np.array([5,6,7,8])\n",
        "\n",
        "print(x)\n",
        "print(y)\n",
        "\n",
        "print(x-y)\n",
        "print(np.subtract(x,y))"
      ],
      "metadata": {
        "id": "RlX3LUTRfw6-",
        "outputId": "bbfd44fe-8067-47a2-96b3-2177b19bb65a",
        "colab": {
          "base_uri": "https://localhost:8080/"
        }
      },
      "execution_count": 27,
      "outputs": [
        {
          "output_type": "stream",
          "name": "stdout",
          "text": [
            "[1 2 3 4]\n",
            "[5 6 7 8]\n",
            "[-4 -4 -4 -4]\n",
            "[-4 -4 -4 -4]\n"
          ]
        }
      ]
    },
    {
      "cell_type": "code",
      "source": [
        "import numpy as np\n",
        "\n",
        "x = np.array([1,2,3,4])\n",
        "y = np.array([5,6,7,8])\n",
        "\n",
        "print(x)\n",
        "print(y)\n",
        "\n",
        "print(x*y)\n",
        "print(np.multiply(x,y))"
      ],
      "metadata": {
        "id": "mnG5Gcf_fx_e",
        "outputId": "b8770d17-0b66-4ff6-ee16-578d1c7d5e1e",
        "colab": {
          "base_uri": "https://localhost:8080/"
        }
      },
      "execution_count": 28,
      "outputs": [
        {
          "output_type": "stream",
          "name": "stdout",
          "text": [
            "[1 2 3 4]\n",
            "[5 6 7 8]\n",
            "[ 5 12 21 32]\n",
            "[ 5 12 21 32]\n"
          ]
        }
      ]
    },
    {
      "cell_type": "code",
      "source": [
        "import numpy as np\n",
        "\n",
        "x = np.array([5,6,7,8])\n",
        "y = np.array([1,2,3,4])\n",
        "\n",
        "print(x)\n",
        "print(y)\n",
        "#chia cac tung phan tuong ung x cho y\n",
        "print(x/y)\n",
        "print(x//y)\n",
        "print(np.divide(x,y))"
      ],
      "metadata": {
        "id": "ikVBnwFufzXF",
        "outputId": "73d91aba-a4dd-4b71-dbed-30d4ba91cda7",
        "colab": {
          "base_uri": "https://localhost:8080/"
        }
      },
      "execution_count": 29,
      "outputs": [
        {
          "output_type": "stream",
          "name": "stdout",
          "text": [
            "[5 6 7 8]\n",
            "[1 2 3 4]\n",
            "[5.         3.         2.33333333 2.        ]\n",
            "[5 3 2 2]\n",
            "[5.         3.         2.33333333 2.        ]\n"
          ]
        }
      ]
    },
    {
      "cell_type": "code",
      "source": [
        "import numpy as np\n",
        "\n",
        "x = np.array([5,6,7,8])\n",
        "print(x)\n",
        "print('can bac 2', np.sqrt(x))"
      ],
      "metadata": {
        "id": "r0zTPCfHf0z_",
        "outputId": "3c5645cc-63e7-4407-856f-36d0f2a6abf4",
        "colab": {
          "base_uri": "https://localhost:8080/"
        }
      },
      "execution_count": 30,
      "outputs": [
        {
          "output_type": "stream",
          "name": "stdout",
          "text": [
            "[5 6 7 8]\n",
            "can bac 2 [2.23606798 2.44948974 2.64575131 2.82842712]\n"
          ]
        }
      ]
    },
    {
      "cell_type": "code",
      "source": [
        "import numpy as np\n",
        "\n",
        "v = np.array([1,2])\n",
        "w = np.array([2,3])\n",
        "#tinh inner product\n",
        "print(v.dot(w))\n",
        "print(np.dot(v,w))"
      ],
      "metadata": {
        "id": "og8I48kkf2DO",
        "outputId": "86d51e9a-0789-463e-c306-fd50be1d8354",
        "colab": {
          "base_uri": "https://localhost:8080/"
        }
      },
      "execution_count": 31,
      "outputs": [
        {
          "output_type": "stream",
          "name": "stdout",
          "text": [
            "8\n",
            "8\n"
          ]
        }
      ]
    },
    {
      "cell_type": "code",
      "source": [
        "import numpy as np\n",
        "v = np.array([[1,2],[3,4]])\n",
        "w = np.array([2,3])\n",
        "\n",
        "\n",
        "print(v)\n",
        "print(w)\n",
        "\n",
        "print(v.dot(w))\n",
        "print(w.dot(v))"
      ],
      "metadata": {
        "id": "BVpXMhdbf3Qe",
        "outputId": "6861675f-e7d1-40db-eaf4-5cbaf91b7ad0",
        "colab": {
          "base_uri": "https://localhost:8080/"
        }
      },
      "execution_count": 32,
      "outputs": [
        {
          "output_type": "stream",
          "name": "stdout",
          "text": [
            "[[1 2]\n",
            " [3 4]]\n",
            "[2 3]\n",
            "[ 8 18]\n",
            "[11 16]\n"
          ]
        }
      ]
    },
    {
      "cell_type": "code",
      "source": [
        "import numpy as np\n",
        "\n",
        "x = np.array([[1,2],\n",
        "              [3,4]])\n",
        "y = np.array([[2,3],\n",
        "              [2,1]])\n",
        "\n",
        "#nhan giua 2 ma tran\n",
        "print(x.dot(y))\n",
        "print(y.dot(x))"
      ],
      "metadata": {
        "id": "9IkkrfQcf4ju",
        "outputId": "e2fe8993-0852-4bb9-db3f-54378b764170",
        "colab": {
          "base_uri": "https://localhost:8080/"
        }
      },
      "execution_count": 33,
      "outputs": [
        {
          "output_type": "stream",
          "name": "stdout",
          "text": [
            "[[ 6  5]\n",
            " [14 13]]\n",
            "[[11 16]\n",
            " [ 5  8]]\n"
          ]
        }
      ]
    },
    {
      "cell_type": "code",
      "source": [
        "import numpy as np\n",
        "\n",
        "x = np.array([[1,2],\n",
        "              [3,4]])\n",
        "#chuyen vi\n",
        "print(x)\n",
        "print(x.T)"
      ],
      "metadata": {
        "id": "JKKDEMJAf6Be",
        "outputId": "aa5d17fe-0d76-490c-bd5b-a4374ceda1e9",
        "colab": {
          "base_uri": "https://localhost:8080/"
        }
      },
      "execution_count": 34,
      "outputs": [
        {
          "output_type": "stream",
          "name": "stdout",
          "text": [
            "[[1 2]\n",
            " [3 4]]\n",
            "[[1 3]\n",
            " [2 4]]\n"
          ]
        }
      ]
    },
    {
      "cell_type": "code",
      "source": [
        "import numpy as np\n",
        "\n",
        "x = np.array([[1,2],\n",
        "              [3,4]])\n",
        "\n",
        "#tong cac phan tu cua mang\n",
        "print(np.sum(x))\n",
        "\n",
        "#tong tung cot\n",
        "print(np.sum(x, axis = 0))\n",
        "\n",
        "#tong tung dong\n",
        "print(np.sum(x, axis=1))"
      ],
      "metadata": {
        "id": "1XJC24ipf7Ee",
        "outputId": "5717e185-e142-4241-8ddc-b908f150cb64",
        "colab": {
          "base_uri": "https://localhost:8080/"
        }
      },
      "execution_count": 35,
      "outputs": [
        {
          "output_type": "stream",
          "name": "stdout",
          "text": [
            "10\n",
            "[4 6]\n",
            "[3 7]\n"
          ]
        }
      ]
    },
    {
      "cell_type": "code",
      "source": [
        "import numpy as np\n",
        "\n",
        "data = np.array([1,2,3])\n",
        "\n",
        "print(data.min())\n",
        "print(data.max())"
      ],
      "metadata": {
        "id": "Fs_jSpNqf8T2",
        "outputId": "5ba0b209-ada0-4167-a9f1-8753704c3eea",
        "colab": {
          "base_uri": "https://localhost:8080/"
        }
      },
      "execution_count": 36,
      "outputs": [
        {
          "output_type": "stream",
          "name": "stdout",
          "text": [
            "1\n",
            "3\n"
          ]
        }
      ]
    },
    {
      "cell_type": "code",
      "source": [
        "import numpy as np\n",
        "\n",
        "data = np.array([1,2,3])\n",
        "factor = 2\n",
        "\n",
        "#broadcasting\n",
        "result_multiplication = data*factor\n",
        "result_minus = data - factor\n",
        "\n",
        "print(data)\n",
        "print(result_multiplication)\n",
        "print(result_minus)"
      ],
      "metadata": {
        "id": "yGEnVrYAf-M-",
        "outputId": "57109ba5-c3fc-4566-a449-e34a653851fe",
        "colab": {
          "base_uri": "https://localhost:8080/"
        }
      },
      "execution_count": 37,
      "outputs": [
        {
          "output_type": "stream",
          "name": "stdout",
          "text": [
            "[1 2 3]\n",
            "[2 4 6]\n",
            "[-1  0  1]\n"
          ]
        }
      ]
    },
    {
      "cell_type": "code",
      "source": [
        "import numpy as np\n",
        "\n",
        "x = np.array([[1,2,3],\n",
        "              [4,5,6],\n",
        "              [7,8,9],\n",
        "              [10,11,12]])\n",
        "v = np.array([1,0,1])\n",
        "y = x + v\n",
        "print(y)"
      ],
      "metadata": {
        "id": "x6KouehIf_PW",
        "outputId": "9297382c-2c4a-4689-a9c4-59a7b5e26501",
        "colab": {
          "base_uri": "https://localhost:8080/"
        }
      },
      "execution_count": 38,
      "outputs": [
        {
          "output_type": "stream",
          "name": "stdout",
          "text": [
            "[[ 2  2  4]\n",
            " [ 5  5  7]\n",
            " [ 8  8 10]\n",
            " [11 11 13]]\n"
          ]
        }
      ]
    }
  ],
  "metadata": {
    "colab": {
      "collapsed_sections": [],
      "name": "Colaboratory chào mừng bạn!",
      "toc_visible": true,
      "provenance": [],
      "include_colab_link": true
    },
    "kernelspec": {
      "display_name": "Python 3",
      "name": "python3"
    }
  },
  "nbformat": 4,
  "nbformat_minor": 0
}