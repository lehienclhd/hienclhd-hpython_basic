{
  "cells": [
    {
      "cell_type": "markdown",
      "metadata": {
        "id": "view-in-github",
        "colab_type": "text"
      },
      "source": [
        "<a href=\"https://colab.research.google.com/gist/lehienclhd/ac566c642d5edae31a8d9eb2fd454cec/b-n-sao-c-a-colaboratory-ch-o-m-ng-b-n.ipynb\" target=\"_parent\"><img src=\"https://colab.research.google.com/assets/colab-badge.svg\" alt=\"Open In Colab\"/></a>"
      ]
    },
    {
      "cell_type": "code",
      "source": [
        "#Pi\n",
        "import random\n",
        "import math\n",
        "\n",
        "N = 10\n",
        "N_T = 0\n",
        "\n",
        "for i in range(N):\n",
        "  x = random.random()*2 - 1\n",
        "  y = random.random()*2 - 1\n",
        "\n",
        "  x2 = x**2\n",
        "  y2 = y**2\n",
        "\n",
        "  if math.sqrt (x2 + y2) <= 1.0:\n",
        "    N_T = N_T + 1\n",
        "\n",
        "  pi = (N_T / N) * 4\n",
        "  print(pi)"
      ],
      "metadata": {
        "colab": {
          "base_uri": "https://localhost:8080/"
        },
        "id": "Q8HynrrD9Jnd",
        "outputId": "3aae352e-fc33-4f8d-e44d-ac8905fdcd6f"
      },
      "execution_count": 1,
      "outputs": [
        {
          "output_type": "stream",
          "name": "stdout",
          "text": [
            "0.4\n",
            "0.8\n",
            "1.2\n",
            "1.6\n",
            "2.0\n",
            "2.4\n",
            "2.4\n",
            "2.8\n",
            "3.2\n",
            "3.2\n"
          ]
        }
      ]
    },
    {
      "cell_type": "markdown",
      "source": [
        "# Mục mới"
      ],
      "metadata": {
        "id": "zktRxcTDCds1"
      }
    },
    {
      "cell_type": "code",
      "source": [
        "#đồng xu\n",
        "import random\n",
        "total_flips = 0\n",
        "num_tails = 0\n",
        "num_heads = 0\n",
        "for _ in range(1000):\n",
        "  n = random.random()\n",
        "  if n < 0.5:\n",
        "      num_tails = num_tails + 1\n",
        "  else:\n",
        "      num_heads = num_heads + 1\n",
        "\n",
        "  total_flips = total_flips + 1\n",
        "print(n)"
      ],
      "metadata": {
        "colab": {
          "base_uri": "https://localhost:8080/"
        },
        "id": "VJq1Xnqv9O79",
        "outputId": "0f7107e4-9b3a-46ed-f6af-dd3779bd61ad"
      },
      "execution_count": 2,
      "outputs": [
        {
          "output_type": "stream",
          "name": "stdout",
          "text": [
            "0.16185511579273215\n"
          ]
        }
      ]
    },
    {
      "cell_type": "code",
      "source": [
        "#example - euler's number\n",
        "def factorial (n):\n",
        "  result = 1\n",
        "\n",
        "  for i in range(2, n+1):\n",
        "    result = result*i\n",
        "  return result\n",
        "\n",
        "def estimate_e(n):\n",
        "  result = 1\n",
        "\n",
        "  for i in range(1,n+1):\n",
        "    result = result + 1/factorial(i)\n",
        "  \n",
        "  return result\n",
        "\n",
        "print(estimate_e(10))"
      ],
      "metadata": {
        "colab": {
          "base_uri": "https://localhost:8080/"
        },
        "id": "unbidhlK9SN9",
        "outputId": "b690977d-159a-4239-8d7c-711b5a9978b9"
      },
      "execution_count": 3,
      "outputs": [
        {
          "output_type": "stream",
          "name": "stdout",
          "text": [
            "2.7182818011463845\n"
          ]
        }
      ]
    },
    {
      "cell_type": "code",
      "source": [
        "#example - computer quadratic root\n",
        "\n",
        "def computer_quadratic_root(N, num_loops):\n",
        "  x_n = N/2.0\n",
        "\n",
        "  for i in range(num_loops):\n",
        "    x_np1 = (x_n + N/x_n) / 2.0\n",
        "    v_n = x_np1\n",
        "\n",
        "  return x_np1\n",
        "\n",
        "print (computer_quadratic_root(N=9, num_loops=10))\n",
        "print (computer_quadratic_root(N=2, num_loops=10))"
      ],
      "metadata": {
        "colab": {
          "base_uri": "https://localhost:8080/"
        },
        "id": "gIbJTvvR9WDV",
        "outputId": "46661e0b-8a4d-41b0-fe85-e50f479e028c"
      },
      "execution_count": 4,
      "outputs": [
        {
          "output_type": "stream",
          "name": "stdout",
          "text": [
            "3.25\n",
            "1.5\n"
          ]
        }
      ]
    },
    {
      "cell_type": "code",
      "source": [
        "#while Loop\n",
        "\n",
        "i = 0\n",
        "while i <5:\n",
        "  print(i)\n",
        "  i = i+1\n",
        "print('ket thuc')"
      ],
      "metadata": {
        "colab": {
          "base_uri": "https://localhost:8080/"
        },
        "id": "GwOkYv0i9Yc9",
        "outputId": "9b3deb31-2554-44fa-8f13-933bf74340af"
      },
      "execution_count": 6,
      "outputs": [
        {
          "output_type": "stream",
          "name": "stdout",
          "text": [
            "0\n",
            "1\n",
            "2\n",
            "3\n",
            "4\n",
            "ket thuc\n"
          ]
        }
      ]
    },
    {
      "cell_type": "code",
      "source": [
        "#while Loop 2\n",
        "import random\n",
        "\n",
        "while True:\n",
        "  num = random.randint(0,5)\n",
        "  print('so sinh ra', num)\n",
        "  if num ==4:\n",
        "    break;\n",
        "print('ket thuc')"
      ],
      "metadata": {
        "colab": {
          "base_uri": "https://localhost:8080/"
        },
        "id": "HXkOUF8D9abl",
        "outputId": "77ec14ab-51e6-464a-aa3f-2230259244b8"
      },
      "execution_count": 7,
      "outputs": [
        {
          "output_type": "stream",
          "name": "stdout",
          "text": [
            "so sinh ra 5\n",
            "so sinh ra 1\n",
            "so sinh ra 0\n",
            "so sinh ra 5\n",
            "so sinh ra 0\n",
            "so sinh ra 3\n",
            "so sinh ra 2\n",
            "so sinh ra 5\n",
            "so sinh ra 3\n",
            "so sinh ra 3\n",
            "so sinh ra 3\n",
            "so sinh ra 0\n",
            "so sinh ra 3\n",
            "so sinh ra 0\n",
            "so sinh ra 0\n",
            "so sinh ra 3\n",
            "so sinh ra 3\n",
            "so sinh ra 1\n",
            "so sinh ra 5\n",
            "so sinh ra 4\n",
            "ket thuc\n"
          ]
        }
      ]
    },
    {
      "cell_type": "code",
      "execution_count": null,
      "metadata": {
        "colab": {
          "base_uri": "https://localhost:8080/",
          "height": 34
        },
        "id": "gJr_9dXGpJ05",
        "outputId": "9f556d03-ec67-4950-a485-cfdba9ddd14d"
      },
      "outputs": [
        {
          "data": {
            "text/plain": [
              "86400"
            ]
          },
          "execution_count": 0,
          "metadata": {
            "tags": []
          },
          "output_type": "execute_result"
        }
      ],
      "source": [
        "seconds_in_a_day = 24 * 60 * 60\n",
        "seconds_in_a_day"
      ]
    },
    {
      "cell_type": "code",
      "execution_count": null,
      "metadata": {
        "colab": {
          "base_uri": "https://localhost:8080/",
          "height": 34
        },
        "id": "-gE-Ez1qtyIA",
        "outputId": "94cb2224-0edf-457b-90b5-0ac3488d8a97"
      },
      "outputs": [
        {
          "data": {
            "text/plain": [
              "604800"
            ]
          },
          "execution_count": 0,
          "metadata": {
            "tags": []
          },
          "output_type": "execute_result"
        }
      ],
      "source": [
        "seconds_in_a_week = 7 * seconds_in_a_day\n",
        "seconds_in_a_week"
      ]
    },
    {
      "cell_type": "code",
      "source": [
        "#đồng xu\n",
        "import random\n",
        "total_flips = 0\n",
        "num_tails = 0\n",
        "num_heads = 0\n",
        "for _ in range(1000):\n",
        "  n = random.random()\n",
        "  if n < 0.5:\n",
        "      num_tails = num_tails + 1\n",
        "  else:\n",
        "      num_heads = num_heads + 1\n",
        "\n",
        "  total_flips = total_flips + 1\n",
        "print(n)"
      ],
      "metadata": {
        "id": "FSJkdUOl8rhB",
        "outputId": "a4a2f7cd-4fc1-4e26-de47-7bddb73c1e78",
        "colab": {
          "base_uri": "https://localhost:8080/"
        }
      },
      "execution_count": null,
      "outputs": [
        {
          "output_type": "stream",
          "name": "stdout",
          "text": [
            "0.9240855925811475\n"
          ]
        }
      ]
    },
    {
      "cell_type": "markdown",
      "source": [
        "# Mục mới"
      ],
      "metadata": {
        "id": "S_tVXNu4-oLh"
      }
    },
    {
      "cell_type": "code",
      "source": [
        "#Pi\n",
        "import random\n",
        "import math\n",
        "\n",
        "N = 10\n",
        "N_T = 0\n",
        "\n",
        "for i in range(N):\n",
        "  x = random.random()*2 - 1\n",
        "  y = random.random()*2 - 1\n",
        "\n",
        "  x2 = x**2\n",
        "  y2 = y**2\n",
        "\n",
        "  if math.sqrt (x2 + y2) <= 1.0:\n",
        "    N_T = N_T + 1\n",
        "\n",
        "  pi = (N_T / N) * 4\n",
        "  print(pi)"
      ],
      "metadata": {
        "id": "O5d0YAvj88qX",
        "outputId": "33ea4c4c-ab9e-427f-f5a5-aaf3d224a60d",
        "colab": {
          "base_uri": "https://localhost:8080/"
        }
      },
      "execution_count": null,
      "outputs": [
        {
          "output_type": "stream",
          "name": "stdout",
          "text": [
            "0.4\n",
            "0.4\n",
            "0.8\n",
            "0.8\n",
            "0.8\n",
            "1.2\n",
            "1.6\n",
            "2.0\n",
            "2.4\n",
            "2.8\n"
          ]
        }
      ]
    },
    {
      "cell_type": "markdown",
      "source": [],
      "metadata": {
        "id": "Dfdr1fE39BR-"
      }
    }
  ],
  "metadata": {
    "colab": {
      "collapsed_sections": [],
      "toc_visible": true,
      "provenance": [],
      "include_colab_link": true
    },
    "kernelspec": {
      "display_name": "Python 3",
      "name": "python3"
    }
  },
  "nbformat": 4,
  "nbformat_minor": 0
}